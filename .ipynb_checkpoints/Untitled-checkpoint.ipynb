{
 "cells": [
  {
   "cell_type": "code",
   "execution_count": 24,
   "metadata": {
    "collapsed": false
   },
   "outputs": [
    {
     "name": "stdout",
     "output_type": "stream",
     "text": [
      "1\n",
      "defaultdict(<type 'int'>, {c: 1, a*x**2: 1, b*x: 1})\n"
     ]
    },
    {
     "data": {
      "text/latex": [
       "$$\\left(0.05 q{\\left (x,y,z \\right )} - 0.05 \\operatorname{q_{0}}{\\left (x,y,z \\right )}\\right) \\left(q{\\left (x,y,z \\right )} - \\operatorname{q_{0}}{\\left (x,y,z \\right )}\\right) + \\left(0.5 u{\\left (x,y,z \\right )} - 0.5 \\operatorname{u_{0}}{\\left (x,y,z \\right )}\\right) \\left(u{\\left (x,y,z \\right )} - \\operatorname{u_{0}}{\\left (x,y,z \\right )}\\right) + \\left(\\frac{\\partial}{\\partial x} \\lambda{\\left (x,y,z \\right )} \\frac{\\partial}{\\partial x} u{\\left (x,y,z \\right )} + \\frac{\\partial}{\\partial y} \\lambda{\\left (x,y,z \\right )} \\frac{\\partial}{\\partial y} u{\\left (x,y,z \\right )} + \\frac{\\partial}{\\partial z} \\lambda{\\left (x,y,z \\right )} \\frac{\\partial}{\\partial z} u{\\left (x,y,z \\right )}\\right) q{\\left (x,y,z \\right )} - f{\\left (x,y,z \\right )} \\lambda{\\left (x,y,z \\right )}$$"
      ],
      "text/plain": [
       "                                                                              \n",
       "(0.05⋅q(x, y, z) - - -0.05⋅q₀(x, y, z))⋅(q(x, y, z) - q₀(x, y, z)) + (0.5⋅u(x,\n",
       "                                                                              \n",
       "\n",
       "                                                          ⎛∂              ∂   \n",
       " y, z) - - -0.5⋅u₀(x, y, z))⋅(u(x, y, z) - u₀(x, y, z)) + ⎜──(λ(x, y, z))⋅──(u\n",
       "                                                          ⎝∂x             ∂x  \n",
       "\n",
       "             ∂              ∂                ∂              ∂             ⎞   \n",
       "(x, y, z)) + ──(λ(x, y, z))⋅──(u(x, y, z)) + ──(λ(x, y, z))⋅──(u(x, y, z))⎟⋅q(\n",
       "             ∂y             ∂y               ∂z             ∂z            ⎠   \n",
       "\n",
       "                                \n",
       "x, y, z) - f(x, y, z)⋅λ(x, y, z)\n",
       "                                "
      ]
     },
     "metadata": {},
     "output_type": "display_data"
    },
    {
     "data": {
      "text/latex": [
       "$$1.0 \\delta_{u}{\\left (x,y,z \\right )} u{\\left (x,y,z \\right )} - 1.0 \\delta_{u}{\\left (x,y,z \\right )} \\operatorname{u_{0}}{\\left (x,y,z \\right )} + 1.0 q{\\left (x,y,z \\right )} \\frac{\\partial}{\\partial x} \\delta_{u}{\\left (x,y,z \\right )} \\frac{\\partial}{\\partial x} \\lambda{\\left (x,y,z \\right )} + 1.0 q{\\left (x,y,z \\right )} \\frac{\\partial}{\\partial y} \\delta_{u}{\\left (x,y,z \\right )} \\frac{\\partial}{\\partial y} \\lambda{\\left (x,y,z \\right )} + 1.0 q{\\left (x,y,z \\right )} \\frac{\\partial}{\\partial z} \\delta_{u}{\\left (x,y,z \\right )} \\frac{\\partial}{\\partial z} \\lambda{\\left (x,y,z \\right )}$$"
      ],
      "text/plain": [
       "                                                                             ∂\n",
       "1.0⋅δᵤ(x, y, z)⋅u(x, y, z) - - -1.0⋅δᵤ(x, y, z)⋅u₀(x, y, z) + 1.0⋅q(x, y, z)⋅─\n",
       "                                                                             ∂\n",
       "\n",
       "               ∂                               ∂               ∂              \n",
       "─(δᵤ(x, y, z))⋅──(λ(x, y, z)) + 1.0⋅q(x, y, z)⋅──(δᵤ(x, y, z))⋅──(λ(x, y, z)) \n",
       "x              ∂x                              ∂y              ∂y             \n",
       "\n",
       "                 ∂               ∂             \n",
       "+ 1.0⋅q(x, y, z)⋅──(δᵤ(x, y, z))⋅──(λ(x, y, z))\n",
       "                 ∂z              ∂z            "
      ]
     },
     "metadata": {},
     "output_type": "display_data"
    },
    {
     "data": {
      "text/latex": [
       "$$\\left(\\frac{\\partial}{\\partial x} \\delta_{\\lambda}{\\left (x,y,z \\right )} \\frac{\\partial}{\\partial x} u{\\left (x,y,z \\right )} + \\frac{\\partial}{\\partial y} \\delta_{\\lambda}{\\left (x,y,z \\right )} \\frac{\\partial}{\\partial y} u{\\left (x,y,z \\right )} + \\frac{\\partial}{\\partial z} \\delta_{\\lambda}{\\left (x,y,z \\right )} \\frac{\\partial}{\\partial z} u{\\left (x,y,z \\right )}\\right) q{\\left (x,y,z \\right )} - \\delta_{\\lambda}{\\left (x,y,z \\right )} f{\\left (x,y,z \\right )}$$"
      ],
      "text/plain": [
       "⎛∂                ∂                ∂                ∂                ∂        \n",
       "⎜──(δ_λ(x, y, z))⋅──(u(x, y, z)) + ──(δ_λ(x, y, z))⋅──(u(x, y, z)) + ──(δ_λ(x,\n",
       "⎝∂x               ∂x               ∂y               ∂y               ∂z       \n",
       "\n",
       "        ∂             ⎞                                     \n",
       " y, z))⋅──(u(x, y, z))⎟⋅q(x, y, z) - δ_λ(x, y, z)⋅f(x, y, z)\n",
       "        ∂z            ⎠                                     "
      ]
     },
     "metadata": {},
     "output_type": "display_data"
    },
    {
     "data": {
      "text/latex": [
       "$$\\left(0.1 q{\\left (x,y,z \\right )} - 0.1 \\operatorname{q_{0}}{\\left (x,y,z \\right )} + \\frac{\\partial}{\\partial x} \\lambda{\\left (x,y,z \\right )} \\frac{\\partial}{\\partial x} u{\\left (x,y,z \\right )} + \\frac{\\partial}{\\partial y} \\lambda{\\left (x,y,z \\right )} \\frac{\\partial}{\\partial y} u{\\left (x,y,z \\right )} + \\frac{\\partial}{\\partial z} \\lambda{\\left (x,y,z \\right )} \\frac{\\partial}{\\partial z} u{\\left (x,y,z \\right )}\\right) \\delta_{q}{\\left (x,y,z \\right )}$$"
      ],
      "text/plain": [
       "⎛                                      ∂              ∂                ∂      \n",
       "⎜0.1⋅q(x, y, z) - - -0.1⋅q₀(x, y, z) + ──(λ(x, y, z))⋅──(u(x, y, z)) + ──(λ(x,\n",
       "⎝                                      ∂x             ∂x               ∂y     \n",
       "\n",
       "        ∂                ∂              ∂             ⎞             \n",
       " y, z))⋅──(u(x, y, z)) + ──(λ(x, y, z))⋅──(u(x, y, z))⎟⋅δ_q(x, y, z)\n",
       "        ∂y               ∂z             ∂z            ⎠             "
      ]
     },
     "metadata": {},
     "output_type": "display_data"
    }
   ],
   "source": [
    "1+1"
   ]
  },
  {
   "cell_type": "code",
   "execution_count": null,
   "metadata": {
    "collapsed": true
   },
   "outputs": [],
   "source": []
  }
 ],
 "metadata": {
  "kernelspec": {
   "display_name": "IPython (Python 2)",
   "name": "python2"
  },
  "language_info": {
   "codemirror_mode": {
    "name": "ipython",
    "version": 2
   },
   "file_extension": ".py",
   "mimetype": "text/x-python",
   "name": "python",
   "nbconvert_exporter": "python",
   "pygments_lexer": "ipython2",
   "version": "2.7.8"
  }
 },
 "nbformat": 4,
 "nbformat_minor": 0
}