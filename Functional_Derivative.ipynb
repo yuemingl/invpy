{
 "cells": [
  {
   "cell_type": "code",
   "execution_count": 1,
   "metadata": {
    "collapsed": false
   },
   "outputs": [
    {
     "name": "stdout",
     "output_type": "stream",
     "text": [
      "L=\n"
     ]
    },
    {
     "data": {
      "text/latex": [
       "$$\\left(0.05 q{\\left (x,y,z \\right )} - 0.05 \\operatorname{q_{0}}{\\left (x,y,z \\right )}\\right) \\left(q{\\left (x,y,z \\right )} - \\operatorname{q_{0}}{\\left (x,y,z \\right )}\\right) + \\left(0.5 u{\\left (x,y,z \\right )} - 0.5 \\operatorname{u_{0}}{\\left (x,y,z \\right )}\\right) \\left(u{\\left (x,y,z \\right )} - \\operatorname{u_{0}}{\\left (x,y,z \\right )}\\right) + \\left(\\frac{\\partial}{\\partial x} \\lambda{\\left (x,y,z \\right )} \\frac{\\partial}{\\partial x} u{\\left (x,y,z \\right )} + \\frac{\\partial}{\\partial y} \\lambda{\\left (x,y,z \\right )} \\frac{\\partial}{\\partial y} u{\\left (x,y,z \\right )} + \\frac{\\partial}{\\partial z} \\lambda{\\left (x,y,z \\right )} \\frac{\\partial}{\\partial z} u{\\left (x,y,z \\right )}\\right) q{\\left (x,y,z \\right )} - \\lambda{\\left (x,y,z \\right )} f{\\left (x,y,z \\right )}$$"
      ],
      "text/plain": [
       "                                                                              \n",
       "(0.05⋅q(x, y, z) - - -0.05⋅q₀(x, y, z))⋅(q(x, y, z) - q₀(x, y, z)) + (0.5⋅u(x,\n",
       "                                                                              \n",
       "\n",
       "                                                          ⎛∂                  \n",
       " y, z) - - -0.5⋅u₀(x, y, z))⋅(u(x, y, z) - u₀(x, y, z)) + ⎜──(\\lambda(x, y, z)\n",
       "                                                          ⎝∂x                 \n",
       "\n",
       "  ∂                ∂                    ∂                ∂                    \n",
       ")⋅──(u(x, y, z)) + ──(\\lambda(x, y, z))⋅──(u(x, y, z)) + ──(\\lambda(x, y, z))⋅\n",
       "  ∂x               ∂y                   ∂y               ∂z                   \n",
       "\n",
       "∂             ⎞                                         \n",
       "──(u(x, y, z))⎟⋅q(x, y, z) - \\lambda(x, y, z)⋅f(x, y, z)\n",
       "∂z            ⎠                                         "
      ]
     },
     "metadata": {},
     "output_type": "display_data"
    },
    {
     "name": "stdout",
     "output_type": "stream",
     "text": [
      "(Lu, Llamd, Lq)=\n"
     ]
    },
    {
     "data": {
      "text/latex": [
       "$$\\left[\\begin{matrix}1.0 \\phi{\\left (x,y,z \\right )} u{\\left (x,y,z \\right )} - 1.0 \\phi{\\left (x,y,z \\right )} \\operatorname{u_{0}}{\\left (x,y,z \\right )} + 1.0 q{\\left (x,y,z \\right )} \\frac{\\partial}{\\partial x} \\lambda{\\left (x,y,z \\right )} \\frac{\\partial}{\\partial x} \\phi{\\left (x,y,z \\right )} + 1.0 q{\\left (x,y,z \\right )} \\frac{\\partial}{\\partial y} \\lambda{\\left (x,y,z \\right )} \\frac{\\partial}{\\partial y} \\phi{\\left (x,y,z \\right )} + 1.0 q{\\left (x,y,z \\right )} \\frac{\\partial}{\\partial z} \\lambda{\\left (x,y,z \\right )} \\frac{\\partial}{\\partial z} \\phi{\\left (x,y,z \\right )}\\\\\\left(\\frac{\\partial}{\\partial x} \\psi{\\left (x,y,z \\right )} \\frac{\\partial}{\\partial x} u{\\left (x,y,z \\right )} + \\frac{\\partial}{\\partial y} \\psi{\\left (x,y,z \\right )} \\frac{\\partial}{\\partial y} u{\\left (x,y,z \\right )} + \\frac{\\partial}{\\partial z} \\psi{\\left (x,y,z \\right )} \\frac{\\partial}{\\partial z} u{\\left (x,y,z \\right )}\\right) q{\\left (x,y,z \\right )} - \\psi{\\left (x,y,z \\right )} f{\\left (x,y,z \\right )}\\\\\\left(0.1 q{\\left (x,y,z \\right )} - 0.1 \\operatorname{q_{0}}{\\left (x,y,z \\right )} + \\frac{\\partial}{\\partial x} \\lambda{\\left (x,y,z \\right )} \\frac{\\partial}{\\partial x} u{\\left (x,y,z \\right )} + \\frac{\\partial}{\\partial y} \\lambda{\\left (x,y,z \\right )} \\frac{\\partial}{\\partial y} u{\\left (x,y,z \\right )} + \\frac{\\partial}{\\partial z} \\lambda{\\left (x,y,z \\right )} \\frac{\\partial}{\\partial z} u{\\left (x,y,z \\right )}\\right) \\chi{\\left (x,y,z \\right )}\\end{matrix}\\right]$$"
      ],
      "text/plain": [
       "⎡                                                                             \n",
       "⎢1.0⋅\\phi(x, y, z)⋅u(x, y, z) - - -1.0⋅\\phi(x, y, z)⋅u₀(x, y, z) + 1.0⋅q(x, y,\n",
       "⎢                                                                             \n",
       "⎢                                                                             \n",
       "⎢                                            ⎛∂                 ∂             \n",
       "⎢                                            ⎜──(\\psi(x, y, z))⋅──(u(x, y, z))\n",
       "⎢                                            ⎝∂x                ∂x            \n",
       "⎢                                                                             \n",
       "⎢                                 ⎛                                      ∂    \n",
       "⎢                                 ⎜0.1⋅q(x, y, z) - - -0.1⋅q₀(x, y, z) + ──(\\l\n",
       "⎣                                 ⎝                                      ∂x   \n",
       "\n",
       "    ∂                    ∂                                  ∂                 \n",
       " z)⋅──(\\lambda(x, y, z))⋅──(\\phi(x, y, z)) + 1.0⋅q(x, y, z)⋅──(\\lambda(x, y, z\n",
       "    ∂x                   ∂x                                 ∂y                \n",
       "                                                                              \n",
       "   ∂                 ∂                ∂                 ∂             ⎞       \n",
       " + ──(\\psi(x, y, z))⋅──(u(x, y, z)) + ──(\\psi(x, y, z))⋅──(u(x, y, z))⎟⋅q(x, y\n",
       "   ∂y                ∂y               ∂z                ∂z            ⎠       \n",
       "                                                                              \n",
       "                ∂                ∂                    ∂                ∂      \n",
       "ambda(x, y, z))⋅──(u(x, y, z)) + ──(\\lambda(x, y, z))⋅──(u(x, y, z)) + ──(\\lam\n",
       "                ∂x               ∂y                   ∂y               ∂z     \n",
       "\n",
       "   ∂                                  ∂                    ∂                ⎤\n",
       "))⋅──(\\phi(x, y, z)) + 1.0⋅q(x, y, z)⋅──(\\lambda(x, y, z))⋅──(\\phi(x, y, z))⎥\n",
       "   ∂y                                 ∂z                   ∂z               ⎥\n",
       "                                                                            ⎥\n",
       "                                                                            ⎥\n",
       ", z) - \\psi(x, y, z)⋅f(x, y, z)                                             ⎥\n",
       "                                                                            ⎥\n",
       "                                                                            ⎥\n",
       "              ∂             ⎞                                               ⎥\n",
       "bda(x, y, z))⋅──(u(x, y, z))⎟⋅\\chi(x, y, z)                                 ⎥\n",
       "              ∂z            ⎠                                               ⎦"
      ]
     },
     "metadata": {},
     "output_type": "display_data"
    },
    {
     "data": {
      "text/latex": [
       "$$\\left[\\begin{matrix}1.0 \\delta u{\\left (x,y,z \\right )} \\phi{\\left (x,y,z \\right )} & 1.0 \\left(\\frac{\\partial}{\\partial x} \\delta \\lambda{\\left (x,y,z \\right )} \\frac{\\partial}{\\partial x} \\phi{\\left (x,y,z \\right )} + \\frac{\\partial}{\\partial y} \\delta \\lambda{\\left (x,y,z \\right )} \\frac{\\partial}{\\partial y} \\phi{\\left (x,y,z \\right )} + \\frac{\\partial}{\\partial z} \\delta \\lambda{\\left (x,y,z \\right )} \\frac{\\partial}{\\partial z} \\phi{\\left (x,y,z \\right )}\\right) q{\\left (x,y,z \\right )} & 1.0 \\left(\\frac{\\partial}{\\partial x} \\lambda{\\left (x,y,z \\right )} \\frac{\\partial}{\\partial x} \\phi{\\left (x,y,z \\right )} + \\frac{\\partial}{\\partial y} \\lambda{\\left (x,y,z \\right )} \\frac{\\partial}{\\partial y} \\phi{\\left (x,y,z \\right )} + \\frac{\\partial}{\\partial z} \\lambda{\\left (x,y,z \\right )} \\frac{\\partial}{\\partial z} \\phi{\\left (x,y,z \\right )}\\right) \\delta q{\\left (x,y,z \\right )}\\\\\\left(\\frac{\\partial}{\\partial x} \\delta u{\\left (x,y,z \\right )} \\frac{\\partial}{\\partial x} \\psi{\\left (x,y,z \\right )} + \\frac{\\partial}{\\partial y} \\delta u{\\left (x,y,z \\right )} \\frac{\\partial}{\\partial y} \\psi{\\left (x,y,z \\right )} + \\frac{\\partial}{\\partial z} \\delta u{\\left (x,y,z \\right )} \\frac{\\partial}{\\partial z} \\psi{\\left (x,y,z \\right )}\\right) q{\\left (x,y,z \\right )} & 0 & \\left(\\frac{\\partial}{\\partial x} \\psi{\\left (x,y,z \\right )} \\frac{\\partial}{\\partial x} u{\\left (x,y,z \\right )} + \\frac{\\partial}{\\partial y} \\psi{\\left (x,y,z \\right )} \\frac{\\partial}{\\partial y} u{\\left (x,y,z \\right )} + \\frac{\\partial}{\\partial z} \\psi{\\left (x,y,z \\right )} \\frac{\\partial}{\\partial z} u{\\left (x,y,z \\right )}\\right) \\delta q{\\left (x,y,z \\right )}\\\\\\left(\\frac{\\partial}{\\partial x} \\delta u{\\left (x,y,z \\right )} \\frac{\\partial}{\\partial x} \\lambda{\\left (x,y,z \\right )} + \\frac{\\partial}{\\partial y} \\delta u{\\left (x,y,z \\right )} \\frac{\\partial}{\\partial y} \\lambda{\\left (x,y,z \\right )} + \\frac{\\partial}{\\partial z} \\delta u{\\left (x,y,z \\right )} \\frac{\\partial}{\\partial z} \\lambda{\\left (x,y,z \\right )}\\right) \\chi{\\left (x,y,z \\right )} & \\left(\\frac{\\partial}{\\partial x} \\delta \\lambda{\\left (x,y,z \\right )} \\frac{\\partial}{\\partial x} u{\\left (x,y,z \\right )} + \\frac{\\partial}{\\partial y} \\delta \\lambda{\\left (x,y,z \\right )} \\frac{\\partial}{\\partial y} u{\\left (x,y,z \\right )} + \\frac{\\partial}{\\partial z} \\delta \\lambda{\\left (x,y,z \\right )} \\frac{\\partial}{\\partial z} u{\\left (x,y,z \\right )}\\right) \\chi{\\left (x,y,z \\right )} & 0.1 \\chi{\\left (x,y,z \\right )} \\delta q{\\left (x,y,z \\right )}\\end{matrix}\\right]$$"
      ],
      "text/plain": [
       "⎡                                                                             \n",
       "⎢                                                        1.0⋅\\delta u(x, y, z)\n",
       "⎢                                                                             \n",
       "⎢                                                                             \n",
       "⎢      ⎛∂                     ∂                   ∂                     ∂     \n",
       "⎢      ⎜──(\\delta u(x, y, z))⋅──(\\psi(x, y, z)) + ──(\\delta u(x, y, z))⋅──(\\ps\n",
       "⎢      ⎝∂x                    ∂x                  ∂y                    ∂y    \n",
       "⎢                                                                             \n",
       "⎢⎛∂                     ∂                      ∂                     ∂        \n",
       "⎢⎜──(\\delta u(x, y, z))⋅──(\\lambda(x, y, z)) + ──(\\delta u(x, y, z))⋅──(\\lambd\n",
       "⎣⎝∂x                    ∂x                     ∂y                    ∂y       \n",
       "\n",
       "                                                                             ⎛\n",
       "⋅\\phi(x, y, z)                                                           1.0⋅⎜\n",
       "                                                                             ⎝\n",
       "                                                                              \n",
       "              ∂                     ∂                ⎞                        \n",
       "i(x, y, z)) + ──(\\delta u(x, y, z))⋅──(\\psi(x, y, z))⎟⋅q(x, y, z)             \n",
       "              ∂z                    ∂z               ⎠                        \n",
       "                                                                              \n",
       "              ∂                     ∂                   ⎞                     \n",
       "a(x, y, z)) + ──(\\delta u(x, y, z))⋅──(\\lambda(x, y, z))⎟⋅\\chi(x, y, z)       \n",
       "              ∂z                    ∂z                  ⎠                     \n",
       "\n",
       "∂                           ∂                   ∂                           ∂ \n",
       "──(\\delta \\lambda(x, y, z))⋅──(\\phi(x, y, z)) + ──(\\delta \\lambda(x, y, z))⋅──\n",
       "∂x                          ∂x                  ∂y                          ∂y\n",
       "                                                                              \n",
       "                                                                              \n",
       "                                                                         0    \n",
       "                                                                              \n",
       "                                                                              \n",
       "⎛∂                           ∂                ∂                           ∂   \n",
       "⎜──(\\delta \\lambda(x, y, z))⋅──(u(x, y, z)) + ──(\\delta \\lambda(x, y, z))⋅──(u\n",
       "⎝∂x                          ∂x               ∂y                          ∂y  \n",
       "\n",
       "                  ∂                           ∂                ⎞              \n",
       "(\\phi(x, y, z)) + ──(\\delta \\lambda(x, y, z))⋅──(\\phi(x, y, z))⎟⋅q(x, y, z)  1\n",
       "                  ∂z                          ∂z               ⎠              \n",
       "                                                                              \n",
       "                                                                              \n",
       "                                                                              \n",
       "                                                                              \n",
       "                                                                              \n",
       "             ∂                           ∂             ⎞                      \n",
       "(x, y, z)) + ──(\\delta \\lambda(x, y, z))⋅──(u(x, y, z))⎟⋅\\chi(x, y, z)        \n",
       "             ∂z                          ∂z            ⎠                      \n",
       "\n",
       "   ⎛∂                    ∂                   ∂                    ∂           \n",
       ".0⋅⎜──(\\lambda(x, y, z))⋅──(\\phi(x, y, z)) + ──(\\lambda(x, y, z))⋅──(\\phi(x, y\n",
       "   ⎝∂x                   ∂x                  ∂y                   ∂y          \n",
       "                                                                              \n",
       "          ⎛∂                 ∂                ∂                 ∂             \n",
       "          ⎜──(\\psi(x, y, z))⋅──(u(x, y, z)) + ──(\\psi(x, y, z))⋅──(u(x, y, z))\n",
       "          ⎝∂x                ∂x               ∂y                ∂y            \n",
       "                                                                              \n",
       "                                                                              \n",
       "                                                     0.1⋅\\chi(x, y, z)⋅\\delta \n",
       "                                                                              \n",
       "\n",
       "        ∂                    ∂                ⎞                  ⎤\n",
       ", z)) + ──(\\lambda(x, y, z))⋅──(\\phi(x, y, z))⎟⋅\\delta q(x, y, z)⎥\n",
       "        ∂z                   ∂z               ⎠                  ⎥\n",
       "                                                                 ⎥\n",
       "   ∂                 ∂             ⎞                             ⎥\n",
       " + ──(\\psi(x, y, z))⋅──(u(x, y, z))⎟⋅\\delta q(x, y, z)           ⎥\n",
       "   ∂z                ∂z            ⎠                             ⎥\n",
       "                                                                 ⎥\n",
       "                                                                 ⎥\n",
       "q(x, y, z)                                                       ⎥\n",
       "                                                                 ⎦"
      ]
     },
     "metadata": {},
     "output_type": "display_data"
    }
   ],
   "source": [
    "from sympy import *\n",
    "from sympy.abc import *\n",
    "from IPython.display import display\n",
    "\n",
    "init_printing(use_latex='mathjax')\n",
    "\n",
    "u = Function('u')(x,y,z)\n",
    "u0 = Function('u0')(x,y,z)\n",
    "q = Function('q')(x,y,z)\n",
    "q0 = Function('q0')(x,y,z)\n",
    "f = Function('f')(x,y,z)\n",
    "lamd = Function('\\lambda')(x,y,z)\n",
    "\n",
    "reg_term = 0.1*0.5*(q-q0)*(q-q0)\n",
    "\n",
    "def grad(f):\n",
    "\tg = []\n",
    "\tfor i in f.args:\n",
    "\t\tg.append(f.diff(i))\n",
    "\treturn g\n",
    "\n",
    "def dot(v1, v2):\n",
    "\tr = 0\n",
    "\tfor idx in range(len(v1)):\n",
    "\t\tr += v1[idx]*v2[idx]\n",
    "\treturn r\n",
    "\n",
    "\n",
    "def func_diff(F, f, df):\n",
    "\talpha = Symbol('alpha')\n",
    "\tF = F.subs(f, f+alpha*df)\n",
    "\tdF = F.diff(alpha)\n",
    "\treturn simplify(dF.subs(alpha, 0))\n",
    "\n",
    "def func_grad(F, xs, dxs):\n",
    "\tG = []\n",
    "\tfor i in range(len(xs)):\n",
    "\t\tG.append(func_diff(F, xs[i], dxs[i]))\n",
    "\treturn G\n",
    "\n",
    "L = 0.5 * (u-u0) * (u-u0) + reg_term + q*dot(grad(u), grad(lamd)) - f*lamd\n",
    "print 'L='\n",
    "display(L)\n",
    "\n",
    "phi = Function('\\phi')(x,y,z)\n",
    "psi = Function('\\psi')(x,y,z)\n",
    "chi = Function('\\chi')(x,y,z)\n",
    "xs = (u, lamd, q)\n",
    "dxs = (phi, psi, chi)\n",
    "Lx = func_grad(L, xs, dxs)\n",
    "print '(Lu, Llamd, Lq)='\n",
    "display(Matrix(Lx))\n",
    "\n",
    "\n",
    "du = Function('\\delta u')(x,y,z)\n",
    "dl = Function('\\delta \\lambda')(x,y,z)\n",
    "dq = Function('\\delta q')(x,y,z)\n",
    "dxs2 = (du, dl, dq)\n",
    "Lxx = []\n",
    "for Lxi in Lx:\n",
    "\tLxx.append(func_grad(Lxi, xs, dxs2))\n",
    "\n",
    "Lxx = Matrix(Lxx)\n",
    "display(Lxx)\n"
   ]
  },
  {
   "cell_type": "code",
   "execution_count": null,
   "metadata": {
    "collapsed": true
   },
   "outputs": [],
   "source": []
  }
 ],
 "metadata": {
  "kernelspec": {
   "display_name": "IPython (Python 2)",
   "name": "python2"
  },
  "language_info": {
   "codemirror_mode": {
    "name": "ipython",
    "version": 2
   },
   "file_extension": ".py",
   "mimetype": "text/x-python",
   "name": "python",
   "nbconvert_exporter": "python",
   "pygments_lexer": "ipython2",
   "version": "2.7.8"
  }
 },
 "nbformat": 4,
 "nbformat_minor": 0
}